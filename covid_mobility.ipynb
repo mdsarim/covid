{
 "cells": [
  {
   "cell_type": "code",
   "execution_count": 19,
   "metadata": {},
   "outputs": [],
   "source": [
    "import numpy as np\n",
    "import pandas as pd\n",
    "import warnings\n",
    "warnings.filterwarnings('ignore')\n",
    "from bokeh.plotting import figure, show, output_file, output_notebook\n",
    "from bokeh.palettes import Spectral11, colorblind, Inferno, BuGn, brewer\n",
    "from bokeh.models import Span, Title, HoverTool, FixedTicker, value, Label, Legend, Div, ColumnDataSource,LinearColorMapper,Jitter, ColorBar, Range1d,LinearAxis\n",
    "from bokeh.io import export_png\n",
    "from bokeh.layouts import grid, column\n",
    "import math\n",
    "import time\n",
    "import datetime\n",
    "from datetime import datetime"
   ]
  },
  {
   "cell_type": "code",
   "execution_count": 20,
   "metadata": {},
   "outputs": [],
   "source": [
    "#importing data\n",
    "googlemobility = pd.read_csv('https://www.gstatic.com/covid19/mobility/Global_Mobility_Report.csv')\n",
    "stringency = pd.read_csv('https://github.com/OxCGRT/covid-policy-tracker/raw/master/data/OxCGRT_latest.csv')"
   ]
  },
  {
   "cell_type": "code",
   "execution_count": 21,
   "metadata": {},
   "outputs": [],
   "source": [
    "#dropping data points for sub-regions within countries\n",
    "googlemobility = googlemobility[pd.isna(googlemobility['sub_region_1'])]\n",
    "#converting to datetime format\n",
    "googlemobility['date'] = [datetime.strptime(str(x), '%Y-%m-%d') for x in googlemobility['date']]\n",
    "stringency['Date'] = [datetime.strptime(str(x), '%Y%m%d') for x in stringency['Date']]\n"
   ]
  },
  {
   "cell_type": "code",
   "execution_count": 22,
   "metadata": {},
   "outputs": [],
   "source": [
    "#selecting relevant attributes\n",
    "googlemobility = googlemobility.drop(columns = ['country_region_code', 'sub_region_1', 'sub_region_2'])\n",
    "stringency = stringency[['CountryName', 'Date','StringencyIndexForDisplay']]\n",
    "#renaming columns\n",
    "googlemobility = googlemobility.rename(columns={\"country_region\": \"country\", 'retail_and_recreation_percent_change_from_baseline':'retail', 'grocery_and_pharmacy_percent_change_from_baseline': 'grocery', 'parks_percent_change_from_baseline': 'parks', 'transit_stations_percent_change_from_baseline': 'transit', 'workplaces_percent_change_from_baseline':'workplaces', 'residential_percent_change_from_baseline': 'residential'})\n",
    "stringency = stringency.rename(columns = {'CountryName':'country', 'Date':'date', 'StringencyIndexForDisplay': 'stringency_index'})\n",
    "#selecting countries for analysis\n",
    "countries = ['Belgium', 'France', 'Germany', 'Italy', 'Netherlands', 'Spain', 'Switzerland', 'United Kingdom']\n",
    "stringency = stringency[stringency['country'].isin(countries)]\n",
    "googlemobility = googlemobility[googlemobility['country'].isin(countries)]"
   ]
  },
  {
   "cell_type": "code",
   "execution_count": 23,
   "metadata": {},
   "outputs": [],
   "source": [
    "#merging google and stringency data\n",
    "final = pd.merge(googlemobility, stringency,  how='inner', on = ['country','date'])"
   ]
  },
  {
   "cell_type": "code",
   "execution_count": 24,
   "metadata": {},
   "outputs": [],
   "source": [
    "#lockdown start dates (Switzerland did not impose lockdown, hence an arbitrary date)\n",
    "start_dates = ['17/03/2020', '16/03/2020', '20/03/2020', '9/03/2020', '23/03/2020', '14/03/2020', '31/12/2050', '23/03/2020']\n",
    "#colors for plots\n",
    "colors = [\"blue\", \"orange\", \"green\", \"red\", \"magenta\", \"purple\", \"black\", \"gold\"]\n",
    "#categories of places\n",
    "#places = ['retail', 'grocery', 'parks', 'transit', 'workplaces', 'residential']\n",
    "places = ['workplaces', 'residential', 'parks']"
   ]
  },
  {
   "cell_type": "code",
   "execution_count": 25,
   "metadata": {},
   "outputs": [],
   "source": [
    "#freedom of association\n",
    "final['freedom_index'] = (100 - final['stringency_index'])"
   ]
  },
  {
   "cell_type": "code",
   "execution_count": 27,
   "metadata": {},
   "outputs": [],
   "source": [
    "#separate plot for each country in the list\n",
    "TOOLS = 'crosshair,save,pan,box_zoom,reset,wheel_zoom'\n",
    "for j, country in enumerate(countries):\n",
    "    title = country\n",
    "    p = figure(title=title, title_location=\"above\", y_axis_type=\"linear\",x_axis_type='datetime', tools=TOOLS, toolbar_location='above', plot_width=800, plot_height=600)\n",
    "    \n",
    "    p.yaxis.bounds = (0, 100)\n",
    "    p.title.text_font_size = '14pt'\n",
    "    \n",
    "    #adding second y-axis for Mobility\n",
    "    p.extra_y_ranges = {\"s\": Range1d(start=-100, end=100)}\n",
    "    p.y_range=Range1d(0, 200)\n",
    "    p.add_layout(LinearAxis(y_range_name=\"s\"), 'right')\n",
    "    \n",
    "    #formatting x-axis labels\n",
    "    p.xaxis.axis_label = 'Date'\n",
    "    p.xaxis.axis_label_text_font = \"calibri\"\n",
    "    p.xaxis.major_label_orientation = math.pi/2\n",
    "    \n",
    "    #drawing lines\n",
    "    for i, place in enumerate(places):\n",
    "        data = final[final['country'] == country]\n",
    "        p.line(x=data.date, y=data[place],  line_color=colors[i], line_width=1, y_range_name=\"s\", legend_label = place)\n",
    "    p.line(x=data.date, y=data.freedom_index,  line_color=colors[i+1], line_width=3 ,legend_label='Freedom Index')\n",
    "    \n",
    "    #adding sundays as ticks on x-axis\n",
    "    sundays = ['16/02/2020', '23/02/2020', '01/03/2020', '08/03/2020', '15/03/2020', '22/03/2020', '29/03/2020', '05/04/2020', '12/04/2020', '19/04/2020', '26/04/2020', '03/05/2020', '10/05/2020', '17/05/2020']\n",
    "    x = pd.to_datetime(sundays, format = '%d/%m/%Y')\n",
    "    tick_vals = pd.to_datetime(x).astype(int)/10**6\n",
    "    p.xaxis.ticker = FixedTicker(ticks=list(tick_vals))\n",
    "    \n",
    "    #line indicating start of lockdown\n",
    "    start_date = time.mktime(pd.to_datetime(start_dates[j],format='%d/%m/%Y').timetuple())*1000\n",
    "    lockdown_start = Span(location=start_date, dimension='height', line_color='red',line_dash='dashed', line_width=2)\n",
    "    p.add_layout(lockdown_start)\n",
    "    \n",
    "    #label indicating date of lockdown\n",
    "    date_str = ' Lockdown from ' + pd.to_datetime(start_dates[j],format='%d/%m/%Y').strftime(\"%d/%m/%Y\")\n",
    "    lockdown_date = Label(x=start_date, y= 85, y_range_name=\"s\", text=date_str, text_color = 'red', text_font_size = '9pt')\n",
    "    p.add_layout(lockdown_date)\n",
    "    \n",
    "    #y-axis labels\n",
    "    p.add_layout(Title(text='Freedom Index', align=\"left\", text_font = 'calibri', text_font_style = 'italic', text_font_size = '12pt', offset = 10), \"left\")\n",
    "    p.add_layout(Title(text='Mobility', align=\"center\",  text_font = 'calibri', text_font_style = 'italic', text_font_size = '12pt'), \"right\")\n",
    "    \n",
    "    #footnotes\n",
    "    label_opts = dict(x=0, y=0, x_units='screen', y_units='screen')\n",
    "    caption1 = Label(text='Data Sources:', **label_opts, text_font_size='8pt', text_font_style = 'italic')\n",
    "    caption2 = Label(text='Oxford COVID-19 Government Response Tracker, Blavatnik School of Government(accessed-28/05/2020)', **label_opts, text_font_size='8pt', text_font_style = 'italic')\n",
    "    caption3 = Label(text='Google COVID-19 Community Mobility Reports(https://www.google.com/covid19/mobility/, accessed-28/05/2020)', **label_opts, text_font_size='8pt', text_font_style = 'italic')\n",
    "    p.add_layout(caption1, 'below')\n",
    "    p.add_layout(caption2, 'below')\n",
    "    p.add_layout(caption3, 'below')\n",
    " \n",
    "    p.legend.location = \"top_left\"\n",
    "    p.legend.background_fill_alpha = 0.4\n",
    "        \n",
    "    show(p)\n"
   ]
  },
  {
   "cell_type": "code",
   "execution_count": null,
   "metadata": {},
   "outputs": [],
   "source": []
  }
 ],
 "metadata": {
  "kernelspec": {
   "display_name": "Python 3",
   "language": "python",
   "name": "python3"
  },
  "language_info": {
   "codemirror_mode": {
    "name": "ipython",
    "version": 3
   },
   "file_extension": ".py",
   "mimetype": "text/x-python",
   "name": "python",
   "nbconvert_exporter": "python",
   "pygments_lexer": "ipython3",
   "version": "3.7.6"
  }
 },
 "nbformat": 4,
 "nbformat_minor": 4
}
